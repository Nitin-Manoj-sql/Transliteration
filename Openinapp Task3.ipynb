{
 "cells": [
  {
   "cell_type": "code",
   "execution_count": 17,
   "id": "0c5688be",
   "metadata": {},
   "outputs": [
    {
     "name": "stdout",
     "output_type": "stream",
     "text": [
      "Input Sentence 1 (English): Definitely share your feedback in the comment section.\n",
      "Translated Sentence 1 (Hindi): टिप्पणी खण्ड में अपनी प्रतिक्रिया को निश्चित रूप से साझा करें.\n",
      "\n",
      "Input Sentence 2 (English):  So even if it's a big video, I will clearly mention all the products.\n",
      "Translated Sentence 2 (Hindi): तो यह एक बड़ा वीडियो है, तो भी मैं स्पष्ट रूप से सभी उत्पादों का उल्लेख करेंगे।\n",
      "\n",
      "Input Sentence 3 (English):  I was waiting for my bag\n",
      "Translated Sentence 3 (Hindi): मैं अपने बैग के लिए इंतजार कर रहा था\n",
      "\n",
      "English Transliteration of Translated Sentence 1: tippani khanda mem apani pratikriya ko nishchita rupa se sajha karem.\n",
      "English Transliteration of Translated Sentence 2: to yaha eka ba.da vidiyo hai, to bhi maim spashta rupa se sabhi utpadom ka ullekha karemge|\n",
      "English Transliteration of Translated Sentence 3: maim apane baiga ke lie imtajara kara raha tha\n"
     ]
    }
   ],
   "source": [
    "from transformers import MarianMTModel, MarianTokenizer\n",
    "from indic_transliteration import sanscript\n",
    "\n",
    "# Load the pre-trained English to Hindi translation model\n",
    "model_name = \"Helsinki-NLP/opus-mt-en-hi\"\n",
    "tokenizer = MarianTokenizer.from_pretrained(model_name)\n",
    "model = MarianMTModel.from_pretrained(model_name)\n",
    "\n",
    "# Input text in English\n",
    "input_text = \"Definitely share your feedback in the comment section.\\n So even if it's a big video, I will clearly mention all the products.\\n I was waiting for my bag\"\n",
    "\n",
    "# Split input text into sentences\n",
    "sentences = input_text.split('\\n')\n",
    "\n",
    "# Initialize an empty list to store translated sentences\n",
    "translated_sentences = []\n",
    "\n",
    "for sentence in sentences:\n",
    "    # Tokenize and translate each sentence\n",
    "    input_ids = tokenizer.encode(sentence, return_tensors=\"pt\")\n",
    "    translated_ids = model.generate(input_ids, max_length=50, num_beams=5, early_stopping=True)\n",
    "\n",
    "    # Decode the translated text from the token IDs\n",
    "    translated_text = tokenizer.decode(translated_ids[0], skip_special_tokens=True)\n",
    "\n",
    "    # Append the translated sentence to the list\n",
    "    translated_sentences.append(translated_text)\n",
    "\n",
    "# Print the input sentences and their translations in different lines\n",
    "for i, sentence in enumerate(sentences):\n",
    "    print(f\"Input Sentence {i + 1} (English): {sentence}\")\n",
    "    print(f\"Translated Sentence {i + 1} (Hindi): {translated_sentences[i]}\\n\")\n",
    "\n",
    "# Function to transliterate Hindi text to English with the first letter in uppercase\n",
    "def transliterate_hindi_to_english(hindi_text):\n",
    "    # Transliterate from Hindi (Devanagari) script to English\n",
    "    transliterated_text = sanscript.transliterate(hindi_text, sanscript.DEVANAGARI, sanscript.ITRANS)\n",
    "    # Convert the first letter to uppercase\n",
    "    transliterated_text = transliterated_text[0].upper() + transliterated_text[1:]\n",
    "    return transliterated_text\n",
    "\n",
    "# Transliterate each translated Hindi sentence to English\n",
    "for i, hindi_translation in enumerate(translated_sentences):\n",
    "    english_transliteration = transliterate_hindi_to_english(hindi_translation)\n",
    "    print(f\"English Transliteration of Translated Sentence {i + 1}:\", english_transliteration.lower())\n"
   ]
  },
  {
   "cell_type": "code",
   "execution_count": null,
   "id": "85f86f17",
   "metadata": {},
   "outputs": [],
   "source": []
  }
 ],
 "metadata": {
  "kernelspec": {
   "display_name": "Python 3 (ipykernel)",
   "language": "python",
   "name": "python3"
  },
  "language_info": {
   "codemirror_mode": {
    "name": "ipython",
    "version": 3
   },
   "file_extension": ".py",
   "mimetype": "text/x-python",
   "name": "python",
   "nbconvert_exporter": "python",
   "pygments_lexer": "ipython3",
   "version": "3.10.4"
  }
 },
 "nbformat": 4,
 "nbformat_minor": 5
}
